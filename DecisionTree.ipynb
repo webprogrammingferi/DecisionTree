{
  "nbformat": 4,
  "nbformat_minor": 0,
  "metadata": {
    "colab": {
      "name": "DecisionTree.ipynb",
      "provenance": [],
      "toc_visible": true
    },
    "kernelspec": {
      "name": "python3",
      "display_name": "Python 3"
    },
    "language_info": {
      "name": "python"
    }
  },
  "cells": [
    {
      "cell_type": "code",
      "metadata": {
        "id": "wTptaGeU1B85"
      },
      "source": [
        "#import Library Scikit Learn untuk Decision Tree, dataset dan Matplotlib\n",
        "from sklearn.tree import DecisionTreeClassifier\n",
        "from sklearn import datasets\n",
        "import matplotlib.pyplot as plt"
      ],
      "execution_count": 1,
      "outputs": []
    },
    {
      "cell_type": "code",
      "metadata": {
        "id": "ssZr0Uct2anU"
      },
      "source": [
        "#Load Dataset Iris dari library scikit learn\n",
        "iris = datasets.load_iris()\n",
        "features = iris['data']\n",
        "target = iris['target']"
      ],
      "execution_count": 2,
      "outputs": []
    },
    {
      "cell_type": "code",
      "metadata": {
        "id": "0WtssCV821L6"
      },
      "source": [
        "# Membuat Objek model Decision Tree\n",
        "decisiontree = DecisionTreeClassifier(random_state=0, max_depth=None,\n",
        "                                      min_samples_split=2, min_samples_leaf=1,\n",
        "                                      min_weight_fraction_leaf=0,\n",
        "                                      max_leaf_nodes=None,\n",
        "                                      min_impurity_decrease=0)"
      ],
      "execution_count": 3,
      "outputs": []
    },
    {
      "cell_type": "code",
      "metadata": {
        "id": "tXtnvJAs3_mp"
      },
      "source": [
        "#Mentraining Model Decision Tree\n",
        "model = decisiontree.fit(features, target)"
      ],
      "execution_count": 4,
      "outputs": []
    },
    {
      "cell_type": "code",
      "metadata": {
        "colab": {
          "base_uri": "https://localhost:8080/"
        },
        "id": "vQ6JQNsO4gGg",
        "outputId": "cab232f5-ef9c-4bc0-85ee-158bd0338d0f"
      },
      "source": [
        "#Mengambil sampel observasi dan membuat prediksi\n",
        "#sampel berupa data dimensi kelopak\n",
        "#Fungsi predict() => memeriksa kelas yang dimilikinya\n",
        "#Fungsi predict_proba() => memeriksa probabilitas kelas dari prediksi tersebut\n",
        "observation = [[5, 4, 3, 2]] \n",
        "model.predict(observation)\n",
        "model.predict_proba(observation)"
      ],
      "execution_count": 6,
      "outputs": [
        {
          "output_type": "execute_result",
          "data": {
            "text/plain": [
              "array([[0., 1., 0.]])"
            ]
          },
          "metadata": {
            "tags": []
          },
          "execution_count": 6
        }
      ]
    },
    {
      "cell_type": "code",
      "metadata": {
        "colab": {
          "base_uri": "https://localhost:8080/"
        },
        "id": "QqUflD1m54wT",
        "outputId": "2fccb4ab-59ff-40a4-f02a-3171acd5c272"
      },
      "source": [
        "#Membuat grafik visualisasi Decision Tree\n",
        "import pydotplus\n",
        "from sklearn import tree\n",
        "dot_data = tree.export_graphviz(decisiontree, out_file=None,\n",
        "                                feature_names=iris['feature_names'],\n",
        "                                class_names=iris['target_names'])\n",
        "from IPython.display import Image\n",
        "graph = pydotplus.graph_from_dot_data(dot_data)\n",
        "Image(graph.create_png())\n",
        "graph.write_png('iris.png')"
      ],
      "execution_count": 7,
      "outputs": [
        {
          "output_type": "execute_result",
          "data": {
            "text/plain": [
              "True"
            ]
          },
          "metadata": {
            "tags": []
          },
          "execution_count": 7
        }
      ]
    },
    {
      "cell_type": "code",
      "metadata": {
        "id": "DVpH1vAl7iGy"
      },
      "source": [
        ""
      ],
      "execution_count": null,
      "outputs": []
    }
  ]
}